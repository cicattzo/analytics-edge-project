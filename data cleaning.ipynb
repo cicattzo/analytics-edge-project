{
 "cells": [
  {
   "cell_type": "code",
   "execution_count": 1,
   "metadata": {},
   "outputs": [],
   "source": [
    "import pandas as pd\n",
    "import numpy as np"
   ]
  },
  {
   "cell_type": "markdown",
   "metadata": {},
   "source": [
    "<b> Concatenate five year's CSVs into one single CSV </b>"
   ]
  },
  {
   "cell_type": "code",
   "execution_count": 6,
   "metadata": {},
   "outputs": [],
   "source": [
    "df_2019 = pd.read_csv(\"/Users/timli/Dropbox/Boston 311 Requests/311_service_requests_2019.csv\")\n",
    "df_2018 = pd.read_csv(\"/Users/timli/Dropbox/Boston 311 Requests/311_service_requests_2018.csv\")\n",
    "df_2017 = pd.read_csv(\"/Users/timli/Dropbox/Boston 311 Requests/311_service_requests_2017.csv\")\n",
    "df_2016 = pd.read_csv(\"/Users/timli/Dropbox/Boston 311 Requests/311_service_requests_2016.csv\")\n",
    "df_2015 = pd.read_csv(\"/Users/timli/Dropbox/Boston 311 Requests/311_service_requests_2015.csv\")"
   ]
  },
  {
   "cell_type": "code",
   "execution_count": 7,
   "metadata": {},
   "outputs": [
    {
     "name": "stdout",
     "output_type": "stream",
     "text": [
      "(259496, 29)\n",
      "(263105, 29)\n",
      "(251495, 29)\n",
      "(216626, 29)\n",
      "(210084, 29)\n"
     ]
    }
   ],
   "source": [
    "print(df_2019.shape)\n",
    "print(df_2018.shape)\n",
    "print(df_2017.shape)\n",
    "print(df_2016.shape)\n",
    "print(df_2015.shape)"
   ]
  },
  {
   "cell_type": "code",
   "execution_count": 8,
   "metadata": {},
   "outputs": [],
   "source": [
    "frames = [df_2019, df_2018, df_2017, df_2016, df_2015]"
   ]
  },
  {
   "cell_type": "code",
   "execution_count": 9,
   "metadata": {},
   "outputs": [],
   "source": [
    "pd_five_years = pd.concat(frames)"
   ]
  },
  {
   "cell_type": "code",
   "execution_count": 10,
   "metadata": {},
   "outputs": [
    {
     "name": "stdout",
     "output_type": "stream",
     "text": [
      "(1200806, 29)\n"
     ]
    }
   ],
   "source": [
    "print(pd_five_years.shape)"
   ]
  },
  {
   "cell_type": "code",
   "execution_count": 16,
   "metadata": {},
   "outputs": [],
   "source": [
    "compression_opts = dict(method='zip', archive_name='311_service_requests_2019_to_2015.csv')  \n",
    "pd_five_years.to_csv('311_service_requests_2019_to_2015.zip', index=False, compression=compression_opts)  "
   ]
  },
  {
   "cell_type": "markdown",
   "metadata": {},
   "source": [
    "<b>Data Cleaning"
   ]
  },
  {
   "cell_type": "code",
   "execution_count": 56,
   "metadata": {},
   "outputs": [],
   "source": [
    "df = pd.read_csv(\"/Users/timli/Dropbox/Boston 311 Requests/311_service_requests_2019_to_2015.csv\")"
   ]
  },
  {
   "cell_type": "code",
   "execution_count": 26,
   "metadata": {},
   "outputs": [
    {
     "data": {
      "text/plain": [
       "case_enquiry_id                            int64\n",
       "open_dt                           datetime64[ns]\n",
       "target_dt                         datetime64[ns]\n",
       "closed_dt                         datetime64[ns]\n",
       "ontime                                     uint8\n",
       "case_status                               object\n",
       "case_title                                object\n",
       "subject                                   object\n",
       "reason                                    object\n",
       "type                                      object\n",
       "queue                                     object\n",
       "department                                object\n",
       "fire_district                             object\n",
       "pwd_district                              object\n",
       "city_council_district                     object\n",
       "police_district                           object\n",
       "neighborhood                              object\n",
       "neighborhood_services_district            object\n",
       "ward                                      object\n",
       "precinct                                  object\n",
       "location_street_name                      object\n",
       "location_zipcode                         float64\n",
       "latitude                                 float64\n",
       "longitude                                float64\n",
       "source                                    object\n",
       "dtype: object"
      ]
     },
     "execution_count": 26,
     "metadata": {},
     "output_type": "execute_result"
    }
   ],
   "source": [
    "df.dtypes"
   ]
  },
  {
   "cell_type": "code",
   "execution_count": 27,
   "metadata": {},
   "outputs": [
    {
     "name": "stdout",
     "output_type": "stream",
     "text": [
      "(1200806, 25)\n"
     ]
    }
   ],
   "source": [
    "print(df.shape)"
   ]
  },
  {
   "cell_type": "markdown",
   "metadata": {},
   "source": [
    "Convert open_dt, target_dt, and closed_dt to type datetime"
   ]
  },
  {
   "cell_type": "code",
   "execution_count": 8,
   "metadata": {},
   "outputs": [],
   "source": [
    "df[\"open_dt\"] = pd.to_datetime(df[\"open_dt\"])"
   ]
  },
  {
   "cell_type": "code",
   "execution_count": 10,
   "metadata": {},
   "outputs": [],
   "source": [
    "df[\"target_dt\"] = pd.to_datetime(df[\"target_dt\"])\n",
    "df[\"closed_dt\"] = pd.to_datetime(df[\"closed_dt\"])"
   ]
  },
  {
   "cell_type": "markdown",
   "metadata": {},
   "source": [
    "Convert ontime into binary int"
   ]
  },
  {
   "cell_type": "code",
   "execution_count": 12,
   "metadata": {},
   "outputs": [],
   "source": [
    "binary = pd.get_dummies(df['ontime'])"
   ]
  },
  {
   "cell_type": "code",
   "execution_count": 16,
   "metadata": {},
   "outputs": [
    {
     "data": {
      "text/plain": [
       "0          1\n",
       "1          1\n",
       "2          1\n",
       "3          1\n",
       "4          1\n",
       "          ..\n",
       "1200801    1\n",
       "1200802    1\n",
       "1200803    1\n",
       "1200804    1\n",
       "1200805    1\n",
       "Name: ONTIME, Length: 1200806, dtype: uint8"
      ]
     },
     "execution_count": 16,
     "metadata": {},
     "output_type": "execute_result"
    }
   ],
   "source": [
    "binary['ONTIME']"
   ]
  },
  {
   "cell_type": "code",
   "execution_count": 17,
   "metadata": {},
   "outputs": [],
   "source": [
    "df['ontime'] = binary['ONTIME']"
   ]
  },
  {
   "cell_type": "markdown",
   "metadata": {},
   "source": [
    "Remove closure_reason, submittedphoto, closedphoto and location columns"
   ]
  },
  {
   "cell_type": "code",
   "execution_count": 25,
   "metadata": {},
   "outputs": [],
   "source": [
    "df = df.drop(['closure_reason', 'submittedphoto', 'closedphoto', 'location'], axis=1)"
   ]
  },
  {
   "cell_type": "markdown",
   "metadata": {},
   "source": [
    "Examine Nan values "
   ]
  },
  {
   "cell_type": "markdown",
   "metadata": {},
   "source": [
    "It is observed that the following columns has Nan values:\n",
    "\n",
    "case_title: 354 rows\n",
    "\n",
    "fire_district: 2591 rows\n",
    "\n",
    "pwd_district: 674 rows\n",
    "\n",
    "city_council_district: 132 rows\n",
    "\n",
    "police_district: 585 rows\n",
    "\n",
    "neighborhood: 1371 rows\n",
    "\n",
    "neighborhood_services_district: 132 rows\n",
    "\n",
    "ward: 61 rows\n",
    "\n",
    "precinct: 876 rows\n",
    "\n",
    "location_street_name: 27036\n",
    "\n",
    "location_zipcode: 287747 "
   ]
  },
  {
   "cell_type": "code",
   "execution_count": 28,
   "metadata": {},
   "outputs": [
    {
     "data": {
      "text/plain": [
       "case_enquiry_id                            int64\n",
       "open_dt                           datetime64[ns]\n",
       "target_dt                         datetime64[ns]\n",
       "closed_dt                         datetime64[ns]\n",
       "ontime                                     uint8\n",
       "case_status                               object\n",
       "case_title                                object\n",
       "subject                                   object\n",
       "reason                                    object\n",
       "type                                      object\n",
       "queue                                     object\n",
       "department                                object\n",
       "fire_district                             object\n",
       "pwd_district                              object\n",
       "city_council_district                     object\n",
       "police_district                           object\n",
       "neighborhood                              object\n",
       "neighborhood_services_district            object\n",
       "ward                                      object\n",
       "precinct                                  object\n",
       "location_street_name                      object\n",
       "location_zipcode                         float64\n",
       "latitude                                 float64\n",
       "longitude                                float64\n",
       "source                                    object\n",
       "dtype: object"
      ]
     },
     "execution_count": 28,
     "metadata": {},
     "output_type": "execute_result"
    }
   ],
   "source": [
    "df.dtypes"
   ]
  },
  {
   "cell_type": "code",
   "execution_count": 57,
   "metadata": {},
   "outputs": [
    {
     "data": {
      "text/html": [
       "<div>\n",
       "<style scoped>\n",
       "    .dataframe tbody tr th:only-of-type {\n",
       "        vertical-align: middle;\n",
       "    }\n",
       "\n",
       "    .dataframe tbody tr th {\n",
       "        vertical-align: top;\n",
       "    }\n",
       "\n",
       "    .dataframe thead th {\n",
       "        text-align: right;\n",
       "    }\n",
       "</style>\n",
       "<table border=\"1\" class=\"dataframe\">\n",
       "  <thead>\n",
       "    <tr style=\"text-align: right;\">\n",
       "      <th></th>\n",
       "      <th>case_enquiry_id</th>\n",
       "      <th>open_dt</th>\n",
       "      <th>target_dt</th>\n",
       "      <th>closed_dt</th>\n",
       "      <th>ontime</th>\n",
       "      <th>case_status</th>\n",
       "      <th>closure_reason</th>\n",
       "      <th>case_title</th>\n",
       "      <th>subject</th>\n",
       "      <th>reason</th>\n",
       "      <th>...</th>\n",
       "      <th>police_district</th>\n",
       "      <th>neighborhood</th>\n",
       "      <th>neighborhood_services_district</th>\n",
       "      <th>ward</th>\n",
       "      <th>precinct</th>\n",
       "      <th>location_street_name</th>\n",
       "      <th>location_zipcode</th>\n",
       "      <th>latitude</th>\n",
       "      <th>longitude</th>\n",
       "      <th>source</th>\n",
       "    </tr>\n",
       "  </thead>\n",
       "  <tbody>\n",
       "    <tr>\n",
       "      <th>31090</th>\n",
       "      <td>101002825100</td>\n",
       "      <td>2019-02-21 10:43:00</td>\n",
       "      <td>2019-02-22 10:43:08</td>\n",
       "      <td>NaN</td>\n",
       "      <td>NaN</td>\n",
       "      <td>Open</td>\n",
       "      <td>Case Closed. Closed date : 2019-03-07 09:01:07...</td>\n",
       "      <td>Sidewalk Repair (Make Safe)</td>\n",
       "      <td>Public Works Department</td>\n",
       "      <td>Highway Maintenance</td>\n",
       "      <td>...</td>\n",
       "      <td>D4</td>\n",
       "      <td>Fenway / Kenmore / Audubon Circle / Longwood</td>\n",
       "      <td>13</td>\n",
       "      <td>Ward 4</td>\n",
       "      <td>0408</td>\n",
       "      <td>309 Huntington Ave</td>\n",
       "      <td>2115.0</td>\n",
       "      <td>42.3412</td>\n",
       "      <td>-71.0876</td>\n",
       "      <td>Constituent Call</td>\n",
       "    </tr>\n",
       "    <tr>\n",
       "      <th>364240</th>\n",
       "      <td>101002480884</td>\n",
       "      <td>2018-05-17 15:48:00</td>\n",
       "      <td>2018-05-18 15:48:40</td>\n",
       "      <td>2018-09-17 08:39:18</td>\n",
       "      <td>NaN</td>\n",
       "      <td>Closed</td>\n",
       "      <td>Case Closed. Closed date : 2018-09-17 08:39:18...</td>\n",
       "      <td>Tree Emergencies</td>\n",
       "      <td>Parks &amp; Recreation Department</td>\n",
       "      <td>Trees</td>\n",
       "      <td>...</td>\n",
       "      <td>E5</td>\n",
       "      <td>West Roxbury</td>\n",
       "      <td>12</td>\n",
       "      <td>Ward 20</td>\n",
       "      <td>2017</td>\n",
       "      <td>9 Marlin Rd</td>\n",
       "      <td>2132.0</td>\n",
       "      <td>42.2938</td>\n",
       "      <td>-71.1655</td>\n",
       "      <td>Constituent Call</td>\n",
       "    </tr>\n",
       "    <tr>\n",
       "      <th>524147</th>\n",
       "      <td>101001981365</td>\n",
       "      <td>2017-01-04 10:32:00</td>\n",
       "      <td>2017-01-23 10:32:26</td>\n",
       "      <td>2017-01-25 06:36:45</td>\n",
       "      <td>NaN</td>\n",
       "      <td>Closed</td>\n",
       "      <td>Case Closed. Closed date : 2017-01-25 06:36:45...</td>\n",
       "      <td>Abandoned Vehicles</td>\n",
       "      <td>Transportation - Traffic Division</td>\n",
       "      <td>Enforcement &amp; Abandoned Vehicles</td>\n",
       "      <td>...</td>\n",
       "      <td>C11</td>\n",
       "      <td>Dorchester</td>\n",
       "      <td>8</td>\n",
       "      <td>15</td>\n",
       "      <td>1509</td>\n",
       "      <td>INTERSECTION Bentham Rd &amp; Mount Ida Rd</td>\n",
       "      <td>NaN</td>\n",
       "      <td>42.3594</td>\n",
       "      <td>-71.0587</td>\n",
       "      <td>Citizens Connect App</td>\n",
       "    </tr>\n",
       "    <tr>\n",
       "      <th>530595</th>\n",
       "      <td>101001988940</td>\n",
       "      <td>2017-01-14 15:58:00</td>\n",
       "      <td>2017-02-02 08:30:00</td>\n",
       "      <td>2017-02-07 11:42:07</td>\n",
       "      <td>NaN</td>\n",
       "      <td>Closed</td>\n",
       "      <td>Case Closed. Closed date : 2017-02-07 11:42:07...</td>\n",
       "      <td>Abandoned Vehicles</td>\n",
       "      <td>Transportation - Traffic Division</td>\n",
       "      <td>Enforcement &amp; Abandoned Vehicles</td>\n",
       "      <td>...</td>\n",
       "      <td>A7</td>\n",
       "      <td>East Boston</td>\n",
       "      <td>1</td>\n",
       "      <td>Ward 1</td>\n",
       "      <td>0111</td>\n",
       "      <td>124 Coleridge St</td>\n",
       "      <td>2128.0</td>\n",
       "      <td>42.3808</td>\n",
       "      <td>-71.0154</td>\n",
       "      <td>Constituent Call</td>\n",
       "    </tr>\n",
       "    <tr>\n",
       "      <th>532422</th>\n",
       "      <td>101001991088</td>\n",
       "      <td>2017-01-18 11:17:00</td>\n",
       "      <td>2017-01-19 11:17:30</td>\n",
       "      <td>2017-03-07 10:35:12</td>\n",
       "      <td>NaN</td>\n",
       "      <td>Closed</td>\n",
       "      <td>Case Closed. Closed date : 2017-03-07 10:35:12...</td>\n",
       "      <td>Tree Emergencies</td>\n",
       "      <td>Parks &amp; Recreation Department</td>\n",
       "      <td>Trees</td>\n",
       "      <td>...</td>\n",
       "      <td>C11</td>\n",
       "      <td>Dorchester</td>\n",
       "      <td>7</td>\n",
       "      <td>Ward 16</td>\n",
       "      <td>1609</td>\n",
       "      <td>65 Chelmsford St</td>\n",
       "      <td>2122.0</td>\n",
       "      <td>42.2849</td>\n",
       "      <td>-71.0523</td>\n",
       "      <td>Constituent Call</td>\n",
       "    </tr>\n",
       "    <tr>\n",
       "      <th>...</th>\n",
       "      <td>...</td>\n",
       "      <td>...</td>\n",
       "      <td>...</td>\n",
       "      <td>...</td>\n",
       "      <td>...</td>\n",
       "      <td>...</td>\n",
       "      <td>...</td>\n",
       "      <td>...</td>\n",
       "      <td>...</td>\n",
       "      <td>...</td>\n",
       "      <td>...</td>\n",
       "      <td>...</td>\n",
       "      <td>...</td>\n",
       "      <td>...</td>\n",
       "      <td>...</td>\n",
       "      <td>...</td>\n",
       "      <td>...</td>\n",
       "      <td>...</td>\n",
       "      <td>...</td>\n",
       "      <td>...</td>\n",
       "      <td>...</td>\n",
       "    </tr>\n",
       "    <tr>\n",
       "      <th>1188069</th>\n",
       "      <td>101001655599</td>\n",
       "      <td>2015-12-01 09:32:00</td>\n",
       "      <td>2015-12-17 09:32:51</td>\n",
       "      <td>2016-02-04 14:59:14</td>\n",
       "      <td>NaN</td>\n",
       "      <td>Closed</td>\n",
       "      <td>Case Closed Case Resolved  abandoned vehicles ...</td>\n",
       "      <td>Abandoned Vehicles</td>\n",
       "      <td>Transportation - Traffic Division</td>\n",
       "      <td>Enforcement &amp; Abandoned Vehicles</td>\n",
       "      <td>...</td>\n",
       "      <td>C11</td>\n",
       "      <td>Dorchester</td>\n",
       "      <td>8</td>\n",
       "      <td>Ward 15</td>\n",
       "      <td>1508</td>\n",
       "      <td>35 Leroy St</td>\n",
       "      <td>2122.0</td>\n",
       "      <td>42.3010</td>\n",
       "      <td>-71.0644</td>\n",
       "      <td>Citizens Connect App</td>\n",
       "    </tr>\n",
       "    <tr>\n",
       "      <th>1189428</th>\n",
       "      <td>101001657787</td>\n",
       "      <td>2015-12-03 15:46:00</td>\n",
       "      <td>2015-12-04 15:46:18</td>\n",
       "      <td>2016-01-07 14:31:51</td>\n",
       "      <td>NaN</td>\n",
       "      <td>Closed</td>\n",
       "      <td>Case Closed. Closed date : 2016-01-07 14:31:51...</td>\n",
       "      <td>Tree Emergencies</td>\n",
       "      <td>Parks &amp; Recreation Department</td>\n",
       "      <td>Trees</td>\n",
       "      <td>...</td>\n",
       "      <td>E5</td>\n",
       "      <td>West Roxbury</td>\n",
       "      <td>12</td>\n",
       "      <td>Ward 20</td>\n",
       "      <td>2015</td>\n",
       "      <td>84 Glenellen Rd</td>\n",
       "      <td>2132.0</td>\n",
       "      <td>42.2676</td>\n",
       "      <td>-71.1635</td>\n",
       "      <td>Constituent Call</td>\n",
       "    </tr>\n",
       "    <tr>\n",
       "      <th>1193195</th>\n",
       "      <td>101001663409</td>\n",
       "      <td>2015-12-11 13:20:00</td>\n",
       "      <td>2015-12-30 13:20:25</td>\n",
       "      <td>2016-01-14 14:50:13</td>\n",
       "      <td>NaN</td>\n",
       "      <td>Closed</td>\n",
       "      <td>Case Closed Case Resolved  t976 reports vehicl...</td>\n",
       "      <td>Abandoned Vehicles</td>\n",
       "      <td>Transportation - Traffic Division</td>\n",
       "      <td>Enforcement &amp; Abandoned Vehicles</td>\n",
       "      <td>...</td>\n",
       "      <td>B2</td>\n",
       "      <td>Roxbury</td>\n",
       "      <td>13</td>\n",
       "      <td>Ward 8</td>\n",
       "      <td>0806</td>\n",
       "      <td>32 Robey St</td>\n",
       "      <td>2119.0</td>\n",
       "      <td>42.3222</td>\n",
       "      <td>-71.0682</td>\n",
       "      <td>Self Service</td>\n",
       "    </tr>\n",
       "    <tr>\n",
       "      <th>1196982</th>\n",
       "      <td>101001679144</td>\n",
       "      <td>2015-12-21 01:33:00</td>\n",
       "      <td>2016-01-08 08:30:00</td>\n",
       "      <td>2016-01-13 07:36:26</td>\n",
       "      <td>NaN</td>\n",
       "      <td>Closed</td>\n",
       "      <td>Case Closed. Closed date : 2016-01-13 07:36:26...</td>\n",
       "      <td>Abandoned Vehicles</td>\n",
       "      <td>Transportation - Traffic Division</td>\n",
       "      <td>Enforcement &amp; Abandoned Vehicles</td>\n",
       "      <td>...</td>\n",
       "      <td>C11</td>\n",
       "      <td>Dorchester</td>\n",
       "      <td>8</td>\n",
       "      <td>Ward 16</td>\n",
       "      <td>1603</td>\n",
       "      <td>17 Argyle St</td>\n",
       "      <td>2124.0</td>\n",
       "      <td>42.2889</td>\n",
       "      <td>-71.0656</td>\n",
       "      <td>Citizens Connect App</td>\n",
       "    </tr>\n",
       "    <tr>\n",
       "      <th>1200173</th>\n",
       "      <td>101001684502</td>\n",
       "      <td>2015-12-30 10:11:00</td>\n",
       "      <td>2016-01-19 10:11:11</td>\n",
       "      <td>2016-01-21 06:53:27</td>\n",
       "      <td>NaN</td>\n",
       "      <td>Closed</td>\n",
       "      <td>Case Closed. Closed date : 2016-01-21 06:53:27...</td>\n",
       "      <td>Abandoned Vehicles</td>\n",
       "      <td>Transportation - Traffic Division</td>\n",
       "      <td>Enforcement &amp; Abandoned Vehicles</td>\n",
       "      <td>...</td>\n",
       "      <td>B3</td>\n",
       "      <td>Greater Mattapan</td>\n",
       "      <td>9</td>\n",
       "      <td>Ward 14</td>\n",
       "      <td>1408</td>\n",
       "      <td>INTERSECTION Fottler Rd &amp; Hazelton St</td>\n",
       "      <td>NaN</td>\n",
       "      <td>42.2792</td>\n",
       "      <td>-71.0946</td>\n",
       "      <td>Constituent Call</td>\n",
       "    </tr>\n",
       "  </tbody>\n",
       "</table>\n",
       "<p>227 rows × 29 columns</p>\n",
       "</div>"
      ],
      "text/plain": [
       "         case_enquiry_id              open_dt            target_dt  \\\n",
       "31090       101002825100  2019-02-21 10:43:00  2019-02-22 10:43:08   \n",
       "364240      101002480884  2018-05-17 15:48:00  2018-05-18 15:48:40   \n",
       "524147      101001981365  2017-01-04 10:32:00  2017-01-23 10:32:26   \n",
       "530595      101001988940  2017-01-14 15:58:00  2017-02-02 08:30:00   \n",
       "532422      101001991088  2017-01-18 11:17:00  2017-01-19 11:17:30   \n",
       "...                  ...                  ...                  ...   \n",
       "1188069     101001655599  2015-12-01 09:32:00  2015-12-17 09:32:51   \n",
       "1189428     101001657787  2015-12-03 15:46:00  2015-12-04 15:46:18   \n",
       "1193195     101001663409  2015-12-11 13:20:00  2015-12-30 13:20:25   \n",
       "1196982     101001679144  2015-12-21 01:33:00  2016-01-08 08:30:00   \n",
       "1200173     101001684502  2015-12-30 10:11:00  2016-01-19 10:11:11   \n",
       "\n",
       "                   closed_dt ontime case_status  \\\n",
       "31090                    NaN    NaN        Open   \n",
       "364240   2018-09-17 08:39:18    NaN      Closed   \n",
       "524147   2017-01-25 06:36:45    NaN      Closed   \n",
       "530595   2017-02-07 11:42:07    NaN      Closed   \n",
       "532422   2017-03-07 10:35:12    NaN      Closed   \n",
       "...                      ...    ...         ...   \n",
       "1188069  2016-02-04 14:59:14    NaN      Closed   \n",
       "1189428  2016-01-07 14:31:51    NaN      Closed   \n",
       "1193195  2016-01-14 14:50:13    NaN      Closed   \n",
       "1196982  2016-01-13 07:36:26    NaN      Closed   \n",
       "1200173  2016-01-21 06:53:27    NaN      Closed   \n",
       "\n",
       "                                            closure_reason  \\\n",
       "31090    Case Closed. Closed date : 2019-03-07 09:01:07...   \n",
       "364240   Case Closed. Closed date : 2018-09-17 08:39:18...   \n",
       "524147   Case Closed. Closed date : 2017-01-25 06:36:45...   \n",
       "530595   Case Closed. Closed date : 2017-02-07 11:42:07...   \n",
       "532422   Case Closed. Closed date : 2017-03-07 10:35:12...   \n",
       "...                                                    ...   \n",
       "1188069  Case Closed Case Resolved  abandoned vehicles ...   \n",
       "1189428  Case Closed. Closed date : 2016-01-07 14:31:51...   \n",
       "1193195  Case Closed Case Resolved  t976 reports vehicl...   \n",
       "1196982  Case Closed. Closed date : 2016-01-13 07:36:26...   \n",
       "1200173  Case Closed. Closed date : 2016-01-21 06:53:27...   \n",
       "\n",
       "                          case_title                            subject  \\\n",
       "31090    Sidewalk Repair (Make Safe)            Public Works Department   \n",
       "364240              Tree Emergencies      Parks & Recreation Department   \n",
       "524147            Abandoned Vehicles  Transportation - Traffic Division   \n",
       "530595            Abandoned Vehicles  Transportation - Traffic Division   \n",
       "532422              Tree Emergencies      Parks & Recreation Department   \n",
       "...                              ...                                ...   \n",
       "1188069           Abandoned Vehicles  Transportation - Traffic Division   \n",
       "1189428             Tree Emergencies      Parks & Recreation Department   \n",
       "1193195           Abandoned Vehicles  Transportation - Traffic Division   \n",
       "1196982           Abandoned Vehicles  Transportation - Traffic Division   \n",
       "1200173           Abandoned Vehicles  Transportation - Traffic Division   \n",
       "\n",
       "                                   reason  ... police_district  \\\n",
       "31090                 Highway Maintenance  ...              D4   \n",
       "364240                              Trees  ...              E5   \n",
       "524147   Enforcement & Abandoned Vehicles  ...             C11   \n",
       "530595   Enforcement & Abandoned Vehicles  ...              A7   \n",
       "532422                              Trees  ...             C11   \n",
       "...                                   ...  ...             ...   \n",
       "1188069  Enforcement & Abandoned Vehicles  ...             C11   \n",
       "1189428                             Trees  ...              E5   \n",
       "1193195  Enforcement & Abandoned Vehicles  ...              B2   \n",
       "1196982  Enforcement & Abandoned Vehicles  ...             C11   \n",
       "1200173  Enforcement & Abandoned Vehicles  ...              B3   \n",
       "\n",
       "                                         neighborhood  \\\n",
       "31090    Fenway / Kenmore / Audubon Circle / Longwood   \n",
       "364240                                   West Roxbury   \n",
       "524147                                     Dorchester   \n",
       "530595                                    East Boston   \n",
       "532422                                     Dorchester   \n",
       "...                                               ...   \n",
       "1188069                                    Dorchester   \n",
       "1189428                                  West Roxbury   \n",
       "1193195                                       Roxbury   \n",
       "1196982                                    Dorchester   \n",
       "1200173                              Greater Mattapan   \n",
       "\n",
       "        neighborhood_services_district     ward precinct  \\\n",
       "31090                               13   Ward 4     0408   \n",
       "364240                              12  Ward 20     2017   \n",
       "524147                               8       15     1509   \n",
       "530595                               1   Ward 1     0111   \n",
       "532422                               7  Ward 16     1609   \n",
       "...                                ...      ...      ...   \n",
       "1188069                              8  Ward 15     1508   \n",
       "1189428                             12  Ward 20     2015   \n",
       "1193195                             13   Ward 8     0806   \n",
       "1196982                              8  Ward 16     1603   \n",
       "1200173                              9  Ward 14     1408   \n",
       "\n",
       "                           location_street_name location_zipcode latitude  \\\n",
       "31090                        309 Huntington Ave           2115.0  42.3412   \n",
       "364240                              9 Marlin Rd           2132.0  42.2938   \n",
       "524147   INTERSECTION Bentham Rd & Mount Ida Rd              NaN  42.3594   \n",
       "530595                         124 Coleridge St           2128.0  42.3808   \n",
       "532422                         65 Chelmsford St           2122.0  42.2849   \n",
       "...                                         ...              ...      ...   \n",
       "1188069                             35 Leroy St           2122.0  42.3010   \n",
       "1189428                         84 Glenellen Rd           2132.0  42.2676   \n",
       "1193195                             32 Robey St           2119.0  42.3222   \n",
       "1196982                            17 Argyle St           2124.0  42.2889   \n",
       "1200173   INTERSECTION Fottler Rd & Hazelton St              NaN  42.2792   \n",
       "\n",
       "        longitude                source  \n",
       "31090    -71.0876      Constituent Call  \n",
       "364240   -71.1655      Constituent Call  \n",
       "524147   -71.0587  Citizens Connect App  \n",
       "530595   -71.0154      Constituent Call  \n",
       "532422   -71.0523      Constituent Call  \n",
       "...           ...                   ...  \n",
       "1188069  -71.0644  Citizens Connect App  \n",
       "1189428  -71.1635      Constituent Call  \n",
       "1193195  -71.0682          Self Service  \n",
       "1196982  -71.0656  Citizens Connect App  \n",
       "1200173  -71.0946      Constituent Call  \n",
       "\n",
       "[227 rows x 29 columns]"
      ]
     },
     "execution_count": 57,
     "metadata": {},
     "output_type": "execute_result"
    }
   ],
   "source": [
    "case_title_nan = df[df['ontime'].isnull()]\n",
    "case_title_nan"
   ]
  },
  {
   "cell_type": "markdown",
   "metadata": {},
   "source": [
    "Save the process dataframe. In the event that further cleaning is necessary will add further cleaning methods"
   ]
  },
  {
   "cell_type": "code",
   "execution_count": 55,
   "metadata": {},
   "outputs": [],
   "source": [
    "compression_opts = dict(method='zip', archive_name='clean_311_service_requests_2019_to_2015.csv')  \n",
    "df.to_csv('clean_311_service_requests_2019_to_2015.zip', index=False, compression=compression_opts)  "
   ]
  },
  {
   "cell_type": "code",
   "execution_count": null,
   "metadata": {},
   "outputs": [],
   "source": []
  }
 ],
 "metadata": {
  "kernelspec": {
   "display_name": "Python 3",
   "language": "python",
   "name": "python3"
  },
  "language_info": {
   "codemirror_mode": {
    "name": "ipython",
    "version": 3
   },
   "file_extension": ".py",
   "mimetype": "text/x-python",
   "name": "python",
   "nbconvert_exporter": "python",
   "pygments_lexer": "ipython3",
   "version": "3.8.3"
  }
 },
 "nbformat": 4,
 "nbformat_minor": 4
}
