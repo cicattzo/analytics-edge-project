{
 "cells": [
  {
   "cell_type": "code",
   "execution_count": 1,
   "metadata": {},
   "outputs": [],
   "source": [
    "import pandas as pd\n",
    "import numpy as np\n",
    "from catboost import CatBoostRegressor\n",
    "from sklearn.ensemble import RandomForestRegressor\n",
    "import lightgbm as lgb\n",
    "import xgboost as xgb\n",
    "import timeit\n",
    "import optuna\n"
   ]
  },
  {
   "cell_type": "code",
   "execution_count": 1,
   "metadata": {},
   "outputs": [],
   "source": [
    "import ttp_dataload\n",
    "import ttp_data_cleaning\n",
    "import ttp_data_transformations\n",
    "import optuna_tuning\n",
    "\n",
    "import warnings\n",
    "warnings.filterwarnings(\"ignore\")"
   ]
  },
  {
   "cell_type": "code",
   "execution_count": 2,
   "metadata": {},
   "outputs": [
    {
     "name": "stdout",
     "output_type": "stream",
     "text": [
      "data preprocessing started\n",
      "\n",
      "column selection started\n",
      "\n",
      "feature engineering started\n",
      "\n",
      "start dataframe train validation trainvalidationsplit\n",
      "\n",
      "data is good, we can work\n",
      "start X y splits and preprocessing\n"
     ]
    }
   ],
   "source": [
    "df = ttp_dataload.download_data()\n",
    "\n",
    "df = ttp_data_cleaning.full_cleaning(df)\n",
    "\n",
    "categorical_features = ['subject','reason','queue','department','fire_district',\n",
    "                        'pwd_district','city_council_district','police_district',\n",
    "                        'neighborhood','neighborhood_services_district','ward',\n",
    "                        'source','open_dt_month', 'open_dt_week','open_dt_day',\n",
    "                        'open_dt_hour','open_dt_dayofweek','closed_dt_month',\n",
    "                        'closed_dt_week','closed_dt_day','closed_dt_hour',\n",
    "                        'closed_dt_dayofweek']\n",
    "\n",
    "data_processed = ttp_data_transformations.data_transformations(df, categorical_features)"
   ]
  },
  {
   "cell_type": "markdown",
   "metadata": {},
   "source": [
    "### Lasso"
   ]
  },
  {
   "cell_type": "code",
   "execution_count": 4,
   "metadata": {},
   "outputs": [
    {
     "name": "stderr",
     "output_type": "stream",
     "text": [
      "\u001b[32m[I 2020-11-07 19:10:44,994]\u001b[0m A new study created in memory with name: no-name-da0d18ec-7b1f-4011-806c-5587711f09b0\u001b[0m\n",
      "\u001b[32m[I 2020-11-07 19:13:28,776]\u001b[0m Trial 0 finished with value: 284066.6015909198 and parameters: {'lasso_alpha': 0.0017826497151386949}. Best is trial 0 with value: 284066.6015909198.\u001b[0m\n"
     ]
    },
    {
     "name": "stdout",
     "output_type": "stream",
     "text": [
      "Time for preparing Lasso result:  7.73  minutes\n"
     ]
    },
    {
     "data": {
      "text/plain": [
       "{'model': 'lasso',\n",
       " 'hyperparameters': [{'lasso_alpha': 0.0017826497151386949}],\n",
       " 'mse_train': 1414167.0995753251,\n",
       " 'mse_test': 402496.9407144272,\n",
       " 'mse_validation': 284066.6015909198}"
      ]
     },
     "execution_count": 4,
     "metadata": {},
     "output_type": "execute_result"
    }
   ],
   "source": [
    "optuna_tuning.linear_lasso(data_processed.x_train_processed, \n",
    "                           data_processed.x_valid_processed, \n",
    "                           data_processed.x_test_processed, \n",
    "                           data_processed.x_trainvalid_processed, \n",
    "                           data_processed.y_train, \n",
    "                           data_processed.y_valid, \n",
    "                           data_processed.y_test, \n",
    "                           data_processed.y_trainvalid, 1)"
   ]
  },
  {
   "cell_type": "code",
   "execution_count": 3,
   "metadata": {},
   "outputs": [
    {
     "name": "stderr",
     "output_type": "stream",
     "text": [
      "\u001b[32m[I 2020-11-07 19:10:27,224]\u001b[0m A new study created in memory with name: no-name-e6aa9022-fdf6-47e5-97af-552fa0cfe42a\u001b[0m\n",
      "\u001b[32m[I 2020-11-07 19:10:30,968]\u001b[0m Trial 0 finished with value: 284777.8240425932 and parameters: {'ridge_alpha': 0.0017826497151386949}. Best is trial 0 with value: 284777.8240425932.\u001b[0m\n"
     ]
    },
    {
     "name": "stdout",
     "output_type": "stream",
     "text": [
      "Time for preparing Ridge result:  0.17  minutes\n"
     ]
    },
    {
     "data": {
      "text/plain": [
       "{'model': 'ridge',\n",
       " 'hyperparameters': [{'ridge_alpha': 0.0017826497151386949}],\n",
       " 'mse_train': 1414072.6847331831,\n",
       " 'mse_test': 403078.86275889684,\n",
       " 'mse_validation': 284777.8240425932}"
      ]
     },
     "execution_count": 3,
     "metadata": {},
     "output_type": "execute_result"
    }
   ],
   "source": [
    "optuna_tuning.linear_ridge(data_processed.x_train_processed, \n",
    "                           data_processed.x_valid_processed, \n",
    "                           data_processed.x_test_processed, \n",
    "                           data_processed.x_trainvalid_processed, \n",
    "                           data_processed.y_train, \n",
    "                           data_processed.y_valid, \n",
    "                           data_processed.y_test, \n",
    "                           data_processed.y_trainvalid, 1)"
   ]
  },
  {
   "cell_type": "code",
   "execution_count": 4,
   "metadata": {},
   "outputs": [
    {
     "name": "stderr",
     "output_type": "stream",
     "text": [
      "\u001b[32m[I 2020-11-07 19:23:00,508]\u001b[0m A new study created in memory with name: no-name-af63a72b-c38f-4f87-9a86-39579f44ed86\u001b[0m\n",
      "\u001b[33m[W 2020-11-07 19:23:00,510]\u001b[0m Trial 0 failed because of the following error: TypeError('Wrong type(str) or unknown name(subject) in categorical_feature')\n",
      "Traceback (most recent call last):\n",
      "  File \"/usr/local/lib/python3.8/site-packages/optuna/_optimize.py\", line 189, in _run_trial\n",
      "    value = func(trial)\n",
      "  File \"/Users/denissai/MIT/FALL_2020/15.072_Advanced_Analytics_Edge/aae_project/optuna_tuning.py\", line 142, in objective_lightgbm\n",
      "    gbm = lgb.train(param, lgb_train)\n",
      "  File \"/usr/local/lib/python3.8/site-packages/lightgbm/engine.py\", line 231, in train\n",
      "    booster = Booster(params=params, train_set=train_set)\n",
      "  File \"/usr/local/lib/python3.8/site-packages/lightgbm/basic.py\", line 1983, in __init__\n",
      "    train_set.construct()\n",
      "  File \"/usr/local/lib/python3.8/site-packages/lightgbm/basic.py\", line 1321, in construct\n",
      "    self._lazy_init(self.data, label=self.label,\n",
      "  File \"/usr/local/lib/python3.8/site-packages/lightgbm/basic.py\", line 1093, in _lazy_init\n",
      "    raise TypeError(\"Wrong type({}) or unknown name({}) in categorical_feature\"\n",
      "TypeError: Wrong type(str) or unknown name(subject) in categorical_feature\u001b[0m\n"
     ]
    },
    {
     "ename": "TypeError",
     "evalue": "Wrong type(str) or unknown name(subject) in categorical_feature",
     "output_type": "error",
     "traceback": [
      "\u001b[0;31m---------------------------------------------------------------------------\u001b[0m",
      "\u001b[0;31mTypeError\u001b[0m                                 Traceback (most recent call last)",
      "\u001b[0;32m<ipython-input-4-ab610ccef814>\u001b[0m in \u001b[0;36m<module>\u001b[0;34m\u001b[0m\n\u001b[0;32m----> 1\u001b[0;31m optuna_tuning.lightgbm_model(categorical_features,\n\u001b[0m\u001b[1;32m      2\u001b[0m                              \u001b[0mdata_processed\u001b[0m\u001b[0;34m.\u001b[0m\u001b[0mx_train_processed\u001b[0m\u001b[0;34m,\u001b[0m\u001b[0;34m\u001b[0m\u001b[0;34m\u001b[0m\u001b[0m\n\u001b[1;32m      3\u001b[0m                              \u001b[0mdata_processed\u001b[0m\u001b[0;34m.\u001b[0m\u001b[0mx_valid_processed\u001b[0m\u001b[0;34m,\u001b[0m\u001b[0;34m\u001b[0m\u001b[0;34m\u001b[0m\u001b[0m\n\u001b[1;32m      4\u001b[0m                              \u001b[0mdata_processed\u001b[0m\u001b[0;34m.\u001b[0m\u001b[0mx_test_processed\u001b[0m\u001b[0;34m,\u001b[0m\u001b[0;34m\u001b[0m\u001b[0;34m\u001b[0m\u001b[0m\n\u001b[1;32m      5\u001b[0m                              \u001b[0mdata_processed\u001b[0m\u001b[0;34m.\u001b[0m\u001b[0mx_trainvalid_processed\u001b[0m\u001b[0;34m,\u001b[0m\u001b[0;34m\u001b[0m\u001b[0;34m\u001b[0m\u001b[0m\n",
      "\u001b[0;32m~/MIT/FALL_2020/15.072_Advanced_Analytics_Edge/aae_project/optuna_tuning.py\u001b[0m in \u001b[0;36mlightgbm_model\u001b[0;34m(categorical_features, x_tr, x_val, x_te, x_trval, y_tr, y_val, y_te, y_trval, n_trials)\u001b[0m\n\u001b[1;32m    149\u001b[0m \u001b[0;34m\u001b[0m\u001b[0m\n\u001b[1;32m    150\u001b[0m     \u001b[0mstudy_lightgbm_v2\u001b[0m \u001b[0;34m=\u001b[0m \u001b[0moptuna\u001b[0m\u001b[0;34m.\u001b[0m\u001b[0mcreate_study\u001b[0m\u001b[0;34m(\u001b[0m\u001b[0msampler\u001b[0m \u001b[0;34m=\u001b[0m \u001b[0mRandomSampler\u001b[0m\u001b[0;34m(\u001b[0m\u001b[0mseed\u001b[0m\u001b[0;34m=\u001b[0m\u001b[0;36m1\u001b[0m\u001b[0;34m)\u001b[0m\u001b[0;34m,\u001b[0m \u001b[0mdirection\u001b[0m\u001b[0;34m=\u001b[0m\u001b[0;34m'minimize'\u001b[0m\u001b[0;34m)\u001b[0m\u001b[0;34m\u001b[0m\u001b[0;34m\u001b[0m\u001b[0m\n\u001b[0;32m--> 151\u001b[0;31m     \u001b[0mstudy_lightgbm_v2\u001b[0m\u001b[0;34m.\u001b[0m\u001b[0moptimize\u001b[0m\u001b[0;34m(\u001b[0m\u001b[0mobjective_lightgbm\u001b[0m\u001b[0;34m,\u001b[0m \u001b[0mn_trials\u001b[0m\u001b[0;34m=\u001b[0m\u001b[0mn_trials\u001b[0m\u001b[0;34m)\u001b[0m\u001b[0;34m\u001b[0m\u001b[0;34m\u001b[0m\u001b[0m\n\u001b[0m\u001b[1;32m    152\u001b[0m \u001b[0;34m\u001b[0m\u001b[0m\n\u001b[1;32m    153\u001b[0m     \u001b[0mbest_l2\u001b[0m \u001b[0;34m=\u001b[0m \u001b[0mstudy_lightgbm_v2\u001b[0m\u001b[0;34m.\u001b[0m\u001b[0mbest_params\u001b[0m\u001b[0;34m[\u001b[0m\u001b[0;34m'lambda_l2'\u001b[0m\u001b[0;34m]\u001b[0m\u001b[0;34m\u001b[0m\u001b[0;34m\u001b[0m\u001b[0m\n",
      "\u001b[0;32m/usr/local/lib/python3.8/site-packages/optuna/study.py\u001b[0m in \u001b[0;36moptimize\u001b[0;34m(self, func, n_trials, timeout, n_jobs, catch, callbacks, gc_after_trial, show_progress_bar)\u001b[0m\n\u001b[1;32m    304\u001b[0m                 \u001b[0mIf\u001b[0m \u001b[0mnested\u001b[0m \u001b[0minvocation\u001b[0m \u001b[0mof\u001b[0m \u001b[0mthis\u001b[0m \u001b[0mmethod\u001b[0m \u001b[0moccurs\u001b[0m\u001b[0;34m.\u001b[0m\u001b[0;34m\u001b[0m\u001b[0;34m\u001b[0m\u001b[0m\n\u001b[1;32m    305\u001b[0m         \"\"\"\n\u001b[0;32m--> 306\u001b[0;31m         _optimize(\n\u001b[0m\u001b[1;32m    307\u001b[0m             \u001b[0mstudy\u001b[0m\u001b[0;34m=\u001b[0m\u001b[0mself\u001b[0m\u001b[0;34m,\u001b[0m\u001b[0;34m\u001b[0m\u001b[0;34m\u001b[0m\u001b[0m\n\u001b[1;32m    308\u001b[0m             \u001b[0mfunc\u001b[0m\u001b[0;34m=\u001b[0m\u001b[0mfunc\u001b[0m\u001b[0;34m,\u001b[0m\u001b[0;34m\u001b[0m\u001b[0;34m\u001b[0m\u001b[0m\n",
      "\u001b[0;32m/usr/local/lib/python3.8/site-packages/optuna/_optimize.py\u001b[0m in \u001b[0;36m_optimize\u001b[0;34m(study, func, n_trials, timeout, n_jobs, catch, callbacks, gc_after_trial, show_progress_bar)\u001b[0m\n\u001b[1;32m     53\u001b[0m     \u001b[0;32mtry\u001b[0m\u001b[0;34m:\u001b[0m\u001b[0;34m\u001b[0m\u001b[0;34m\u001b[0m\u001b[0m\n\u001b[1;32m     54\u001b[0m         \u001b[0;32mif\u001b[0m \u001b[0mn_jobs\u001b[0m \u001b[0;34m==\u001b[0m \u001b[0;36m1\u001b[0m\u001b[0;34m:\u001b[0m\u001b[0;34m\u001b[0m\u001b[0;34m\u001b[0m\u001b[0m\n\u001b[0;32m---> 55\u001b[0;31m             _optimize_sequential(\n\u001b[0m\u001b[1;32m     56\u001b[0m                 \u001b[0mstudy\u001b[0m\u001b[0;34m,\u001b[0m\u001b[0;34m\u001b[0m\u001b[0;34m\u001b[0m\u001b[0m\n\u001b[1;32m     57\u001b[0m                 \u001b[0mfunc\u001b[0m\u001b[0;34m,\u001b[0m\u001b[0;34m\u001b[0m\u001b[0;34m\u001b[0m\u001b[0m\n",
      "\u001b[0;32m/usr/local/lib/python3.8/site-packages/optuna/_optimize.py\u001b[0m in \u001b[0;36m_optimize_sequential\u001b[0;34m(study, func, n_trials, timeout, catch, callbacks, gc_after_trial, reseed_sampler_rng, time_start, progress_bar)\u001b[0m\n\u001b[1;32m    154\u001b[0m \u001b[0;34m\u001b[0m\u001b[0m\n\u001b[1;32m    155\u001b[0m         \u001b[0;32mtry\u001b[0m\u001b[0;34m:\u001b[0m\u001b[0;34m\u001b[0m\u001b[0;34m\u001b[0m\u001b[0m\n\u001b[0;32m--> 156\u001b[0;31m             \u001b[0mtrial\u001b[0m \u001b[0;34m=\u001b[0m \u001b[0m_run_trial\u001b[0m\u001b[0;34m(\u001b[0m\u001b[0mstudy\u001b[0m\u001b[0;34m,\u001b[0m \u001b[0mfunc\u001b[0m\u001b[0;34m,\u001b[0m \u001b[0mcatch\u001b[0m\u001b[0;34m)\u001b[0m\u001b[0;34m\u001b[0m\u001b[0;34m\u001b[0m\u001b[0m\n\u001b[0m\u001b[1;32m    157\u001b[0m         \u001b[0;32mexcept\u001b[0m \u001b[0mException\u001b[0m\u001b[0;34m:\u001b[0m\u001b[0;34m\u001b[0m\u001b[0;34m\u001b[0m\u001b[0m\n\u001b[1;32m    158\u001b[0m             \u001b[0;32mraise\u001b[0m\u001b[0;34m\u001b[0m\u001b[0;34m\u001b[0m\u001b[0m\n",
      "\u001b[0;32m/usr/local/lib/python3.8/site-packages/optuna/_optimize.py\u001b[0m in \u001b[0;36m_run_trial\u001b[0;34m(study, func, catch)\u001b[0m\n\u001b[1;32m    187\u001b[0m \u001b[0;34m\u001b[0m\u001b[0m\n\u001b[1;32m    188\u001b[0m     \u001b[0;32mtry\u001b[0m\u001b[0;34m:\u001b[0m\u001b[0;34m\u001b[0m\u001b[0;34m\u001b[0m\u001b[0m\n\u001b[0;32m--> 189\u001b[0;31m         \u001b[0mvalue\u001b[0m \u001b[0;34m=\u001b[0m \u001b[0mfunc\u001b[0m\u001b[0;34m(\u001b[0m\u001b[0mtrial\u001b[0m\u001b[0;34m)\u001b[0m\u001b[0;34m\u001b[0m\u001b[0;34m\u001b[0m\u001b[0m\n\u001b[0m\u001b[1;32m    190\u001b[0m     \u001b[0;32mexcept\u001b[0m \u001b[0mexceptions\u001b[0m\u001b[0;34m.\u001b[0m\u001b[0mTrialPruned\u001b[0m \u001b[0;32mas\u001b[0m \u001b[0me\u001b[0m\u001b[0;34m:\u001b[0m\u001b[0;34m\u001b[0m\u001b[0;34m\u001b[0m\u001b[0m\n\u001b[1;32m    191\u001b[0m         \u001b[0;31m# Register the last intermediate value if present as the value of the trial.\u001b[0m\u001b[0;34m\u001b[0m\u001b[0;34m\u001b[0m\u001b[0;34m\u001b[0m\u001b[0m\n",
      "\u001b[0;32m~/MIT/FALL_2020/15.072_Advanced_Analytics_Edge/aae_project/optuna_tuning.py\u001b[0m in \u001b[0;36mobjective_lightgbm\u001b[0;34m(trial)\u001b[0m\n\u001b[1;32m    140\u001b[0m         }\n\u001b[1;32m    141\u001b[0m \u001b[0;34m\u001b[0m\u001b[0m\n\u001b[0;32m--> 142\u001b[0;31m         \u001b[0mgbm\u001b[0m \u001b[0;34m=\u001b[0m \u001b[0mlgb\u001b[0m\u001b[0;34m.\u001b[0m\u001b[0mtrain\u001b[0m\u001b[0;34m(\u001b[0m\u001b[0mparam\u001b[0m\u001b[0;34m,\u001b[0m \u001b[0mlgb_train\u001b[0m\u001b[0;34m)\u001b[0m\u001b[0;34m\u001b[0m\u001b[0;34m\u001b[0m\u001b[0m\n\u001b[0m\u001b[1;32m    143\u001b[0m \u001b[0;34m\u001b[0m\u001b[0m\n\u001b[1;32m    144\u001b[0m         \u001b[0mpreds\u001b[0m \u001b[0;34m=\u001b[0m \u001b[0mgbm\u001b[0m\u001b[0;34m.\u001b[0m\u001b[0mpredict\u001b[0m\u001b[0;34m(\u001b[0m\u001b[0mx_val\u001b[0m\u001b[0;34m,\u001b[0m \u001b[0mnum_iteration\u001b[0m\u001b[0;34m=\u001b[0m\u001b[0mgbm\u001b[0m\u001b[0;34m.\u001b[0m\u001b[0mbest_iteration\u001b[0m\u001b[0;34m)\u001b[0m\u001b[0;34m\u001b[0m\u001b[0;34m\u001b[0m\u001b[0m\n",
      "\u001b[0;32m/usr/local/lib/python3.8/site-packages/lightgbm/engine.py\u001b[0m in \u001b[0;36mtrain\u001b[0;34m(params, train_set, num_boost_round, valid_sets, valid_names, fobj, feval, init_model, feature_name, categorical_feature, early_stopping_rounds, evals_result, verbose_eval, learning_rates, keep_training_booster, callbacks)\u001b[0m\n\u001b[1;32m    229\u001b[0m     \u001b[0;31m# construct booster\u001b[0m\u001b[0;34m\u001b[0m\u001b[0;34m\u001b[0m\u001b[0;34m\u001b[0m\u001b[0m\n\u001b[1;32m    230\u001b[0m     \u001b[0;32mtry\u001b[0m\u001b[0;34m:\u001b[0m\u001b[0;34m\u001b[0m\u001b[0;34m\u001b[0m\u001b[0m\n\u001b[0;32m--> 231\u001b[0;31m         \u001b[0mbooster\u001b[0m \u001b[0;34m=\u001b[0m \u001b[0mBooster\u001b[0m\u001b[0;34m(\u001b[0m\u001b[0mparams\u001b[0m\u001b[0;34m=\u001b[0m\u001b[0mparams\u001b[0m\u001b[0;34m,\u001b[0m \u001b[0mtrain_set\u001b[0m\u001b[0;34m=\u001b[0m\u001b[0mtrain_set\u001b[0m\u001b[0;34m)\u001b[0m\u001b[0;34m\u001b[0m\u001b[0;34m\u001b[0m\u001b[0m\n\u001b[0m\u001b[1;32m    232\u001b[0m         \u001b[0;32mif\u001b[0m \u001b[0mis_valid_contain_train\u001b[0m\u001b[0;34m:\u001b[0m\u001b[0;34m\u001b[0m\u001b[0;34m\u001b[0m\u001b[0m\n\u001b[1;32m    233\u001b[0m             \u001b[0mbooster\u001b[0m\u001b[0;34m.\u001b[0m\u001b[0mset_train_data_name\u001b[0m\u001b[0;34m(\u001b[0m\u001b[0mtrain_data_name\u001b[0m\u001b[0;34m)\u001b[0m\u001b[0;34m\u001b[0m\u001b[0;34m\u001b[0m\u001b[0m\n",
      "\u001b[0;32m/usr/local/lib/python3.8/site-packages/lightgbm/basic.py\u001b[0m in \u001b[0;36m__init__\u001b[0;34m(self, params, train_set, model_file, model_str, silent)\u001b[0m\n\u001b[1;32m   1981\u001b[0m                     \u001b[0;32mbreak\u001b[0m\u001b[0;34m\u001b[0m\u001b[0;34m\u001b[0m\u001b[0m\n\u001b[1;32m   1982\u001b[0m             \u001b[0;31m# construct booster object\u001b[0m\u001b[0;34m\u001b[0m\u001b[0;34m\u001b[0m\u001b[0;34m\u001b[0m\u001b[0m\n\u001b[0;32m-> 1983\u001b[0;31m             \u001b[0mtrain_set\u001b[0m\u001b[0;34m.\u001b[0m\u001b[0mconstruct\u001b[0m\u001b[0;34m(\u001b[0m\u001b[0;34m)\u001b[0m\u001b[0;34m\u001b[0m\u001b[0;34m\u001b[0m\u001b[0m\n\u001b[0m\u001b[1;32m   1984\u001b[0m             \u001b[0;31m# copy the parameters from train_set\u001b[0m\u001b[0;34m\u001b[0m\u001b[0;34m\u001b[0m\u001b[0;34m\u001b[0m\u001b[0m\n\u001b[1;32m   1985\u001b[0m             \u001b[0mparams\u001b[0m\u001b[0;34m.\u001b[0m\u001b[0mupdate\u001b[0m\u001b[0;34m(\u001b[0m\u001b[0mtrain_set\u001b[0m\u001b[0;34m.\u001b[0m\u001b[0mget_params\u001b[0m\u001b[0;34m(\u001b[0m\u001b[0;34m)\u001b[0m\u001b[0;34m)\u001b[0m\u001b[0;34m\u001b[0m\u001b[0;34m\u001b[0m\u001b[0m\n",
      "\u001b[0;32m/usr/local/lib/python3.8/site-packages/lightgbm/basic.py\u001b[0m in \u001b[0;36mconstruct\u001b[0;34m(self)\u001b[0m\n\u001b[1;32m   1319\u001b[0m             \u001b[0;32melse\u001b[0m\u001b[0;34m:\u001b[0m\u001b[0;34m\u001b[0m\u001b[0;34m\u001b[0m\u001b[0m\n\u001b[1;32m   1320\u001b[0m                 \u001b[0;31m# create train\u001b[0m\u001b[0;34m\u001b[0m\u001b[0;34m\u001b[0m\u001b[0;34m\u001b[0m\u001b[0m\n\u001b[0;32m-> 1321\u001b[0;31m                 self._lazy_init(self.data, label=self.label,\n\u001b[0m\u001b[1;32m   1322\u001b[0m                                 \u001b[0mweight\u001b[0m\u001b[0;34m=\u001b[0m\u001b[0mself\u001b[0m\u001b[0;34m.\u001b[0m\u001b[0mweight\u001b[0m\u001b[0;34m,\u001b[0m \u001b[0mgroup\u001b[0m\u001b[0;34m=\u001b[0m\u001b[0mself\u001b[0m\u001b[0;34m.\u001b[0m\u001b[0mgroup\u001b[0m\u001b[0;34m,\u001b[0m\u001b[0;34m\u001b[0m\u001b[0;34m\u001b[0m\u001b[0m\n\u001b[1;32m   1323\u001b[0m                                 \u001b[0minit_score\u001b[0m\u001b[0;34m=\u001b[0m\u001b[0mself\u001b[0m\u001b[0;34m.\u001b[0m\u001b[0minit_score\u001b[0m\u001b[0;34m,\u001b[0m \u001b[0mpredictor\u001b[0m\u001b[0;34m=\u001b[0m\u001b[0mself\u001b[0m\u001b[0;34m.\u001b[0m\u001b[0m_predictor\u001b[0m\u001b[0;34m,\u001b[0m\u001b[0;34m\u001b[0m\u001b[0;34m\u001b[0m\u001b[0m\n",
      "\u001b[0;32m/usr/local/lib/python3.8/site-packages/lightgbm/basic.py\u001b[0m in \u001b[0;36m_lazy_init\u001b[0;34m(self, data, label, reference, weight, group, init_score, predictor, silent, feature_name, categorical_feature, params)\u001b[0m\n\u001b[1;32m   1091\u001b[0m                     \u001b[0mcategorical_indices\u001b[0m\u001b[0;34m.\u001b[0m\u001b[0madd\u001b[0m\u001b[0;34m(\u001b[0m\u001b[0mname\u001b[0m\u001b[0;34m)\u001b[0m\u001b[0;34m\u001b[0m\u001b[0;34m\u001b[0m\u001b[0m\n\u001b[1;32m   1092\u001b[0m                 \u001b[0;32melse\u001b[0m\u001b[0;34m:\u001b[0m\u001b[0;34m\u001b[0m\u001b[0;34m\u001b[0m\u001b[0m\n\u001b[0;32m-> 1093\u001b[0;31m                     raise TypeError(\"Wrong type({}) or unknown name({}) in categorical_feature\"\n\u001b[0m\u001b[1;32m   1094\u001b[0m                                     .format(type(name).__name__, name))\n\u001b[1;32m   1095\u001b[0m             \u001b[0;32mif\u001b[0m \u001b[0mcategorical_indices\u001b[0m\u001b[0;34m:\u001b[0m\u001b[0;34m\u001b[0m\u001b[0;34m\u001b[0m\u001b[0m\n",
      "\u001b[0;31mTypeError\u001b[0m: Wrong type(str) or unknown name(subject) in categorical_feature"
     ]
    }
   ],
   "source": [
    "optuna_tuning.lightgbm_model(categorical_features,\n",
    "                             data_processed.x_train, \n",
    "                             data_processed.x_valid, \n",
    "                             data_processed.x_test, \n",
    "                             data_processed.x_trainvalid, \n",
    "                             data_processed.y_train, \n",
    "                             data_processed.y_valid, \n",
    "                             data_processed.y_test, \n",
    "                             data_processed.y_trainvalid, 1)"
   ]
  },
  {
   "cell_type": "code",
   "execution_count": null,
   "metadata": {},
   "outputs": [],
   "source": [
    "optuna_tuning.xgboost_model(data_processed.x_train_processed, \n",
    "                             data_processed.x_valid_processed, \n",
    "                             data_processed.x_test_processed, \n",
    "                             data_processed.x_trainvalid_processed, \n",
    "                             data_processed.y_train, \n",
    "                             data_processed.y_valid, \n",
    "                             data_processed.y_test, \n",
    "                             data_processed.y_trainvalid, 1)"
   ]
  },
  {
   "cell_type": "code",
   "execution_count": null,
   "metadata": {},
   "outputs": [],
   "source": []
  },
  {
   "cell_type": "markdown",
   "metadata": {},
   "source": [
    "### CatBoost"
   ]
  },
  {
   "cell_type": "code",
   "execution_count": 37,
   "metadata": {
    "scrolled": true
   },
   "outputs": [
    {
     "name": "stdout",
     "output_type": "stream",
     "text": [
      "Learning rate set to 0.388763\n",
      "0:\tlearn: 1108.1341950\ttest: 502.8311893\tbest: 502.8311893 (0)\ttotal: 304ms\tremaining: 1m\n",
      "1:\tlearn: 935.1006945\ttest: 373.2058241\tbest: 373.2058241 (1)\ttotal: 611ms\tremaining: 1m\n",
      "2:\tlearn: 912.4845276\ttest: 377.3743232\tbest: 373.2058241 (1)\ttotal: 864ms\tremaining: 56.7s\n",
      "3:\tlearn: 834.3310734\ttest: 336.6164973\tbest: 336.6164973 (3)\ttotal: 1.08s\tremaining: 52.8s\n",
      "4:\tlearn: 807.1475838\ttest: 315.9880488\tbest: 315.9880488 (4)\ttotal: 1.5s\tremaining: 58.7s\n",
      "5:\tlearn: 794.4703868\ttest: 309.9452103\tbest: 309.9452103 (5)\ttotal: 1.93s\tremaining: 1m 2s\n",
      "6:\tlearn: 783.5616297\ttest: 314.0956189\tbest: 309.9452103 (5)\ttotal: 2.43s\tremaining: 1m 6s\n",
      "7:\tlearn: 766.2329797\ttest: 303.5131550\tbest: 303.5131550 (7)\ttotal: 2.74s\tremaining: 1m 5s\n",
      "8:\tlearn: 750.3991385\ttest: 296.1603334\tbest: 296.1603334 (8)\ttotal: 3.01s\tremaining: 1m 3s\n",
      "9:\tlearn: 739.1660462\ttest: 301.1265678\tbest: 296.1603334 (8)\ttotal: 3.38s\tremaining: 1m 4s\n",
      "10:\tlearn: 731.8629331\ttest: 297.6558465\tbest: 296.1603334 (8)\ttotal: 3.8s\tremaining: 1m 5s\n",
      "11:\tlearn: 722.3616712\ttest: 294.2441526\tbest: 294.2441526 (11)\ttotal: 4.09s\tremaining: 1m 4s\n",
      "12:\tlearn: 719.2370163\ttest: 291.9207411\tbest: 291.9207411 (12)\ttotal: 4.39s\tremaining: 1m 3s\n",
      "13:\tlearn: 716.3538171\ttest: 290.2069048\tbest: 290.2069048 (13)\ttotal: 4.72s\tremaining: 1m 2s\n",
      "14:\tlearn: 708.5058233\ttest: 285.5092590\tbest: 285.5092590 (14)\ttotal: 5.12s\tremaining: 1m 3s\n",
      "15:\tlearn: 704.9874697\ttest: 285.5496565\tbest: 285.5092590 (14)\ttotal: 5.46s\tremaining: 1m 2s\n",
      "16:\tlearn: 701.8700126\ttest: 286.6399629\tbest: 285.5092590 (14)\ttotal: 5.82s\tremaining: 1m 2s\n",
      "17:\tlearn: 691.1745422\ttest: 278.7320932\tbest: 278.7320932 (17)\ttotal: 6.1s\tremaining: 1m 1s\n",
      "18:\tlearn: 688.4004842\ttest: 274.5186924\tbest: 274.5186924 (18)\ttotal: 6.43s\tremaining: 1m 1s\n",
      "19:\tlearn: 685.7864370\ttest: 273.8639142\tbest: 273.8639142 (19)\ttotal: 6.79s\tremaining: 1m 1s\n",
      "20:\tlearn: 683.8362754\ttest: 274.0545260\tbest: 273.8639142 (19)\ttotal: 7.26s\tremaining: 1m 1s\n",
      "21:\tlearn: 682.4122834\ttest: 273.1805600\tbest: 273.1805600 (21)\ttotal: 7.63s\tremaining: 1m 1s\n",
      "22:\tlearn: 679.8809286\ttest: 271.1095833\tbest: 271.1095833 (22)\ttotal: 7.99s\tremaining: 1m 1s\n",
      "23:\tlearn: 674.5574096\ttest: 269.7305238\tbest: 269.7305238 (23)\ttotal: 8.62s\tremaining: 1m 3s\n",
      "24:\tlearn: 671.8162514\ttest: 270.5691800\tbest: 269.7305238 (23)\ttotal: 9.01s\tremaining: 1m 3s\n",
      "25:\tlearn: 671.8128222\ttest: 270.5716443\tbest: 269.7305238 (23)\ttotal: 9.34s\tremaining: 1m 2s\n",
      "26:\tlearn: 670.2937730\ttest: 271.7643289\tbest: 269.7305238 (23)\ttotal: 9.75s\tremaining: 1m 2s\n",
      "27:\tlearn: 665.5999340\ttest: 270.4366127\tbest: 269.7305238 (23)\ttotal: 10s\tremaining: 1m 1s\n",
      "28:\tlearn: 665.4367899\ttest: 270.4973493\tbest: 269.7305238 (23)\ttotal: 10.3s\tremaining: 1m\n",
      "29:\tlearn: 662.6903050\ttest: 273.0022828\tbest: 269.7305238 (23)\ttotal: 10.7s\tremaining: 1m\n",
      "30:\tlearn: 660.5986927\ttest: 274.0154332\tbest: 269.7305238 (23)\ttotal: 11s\tremaining: 1m\n",
      "31:\tlearn: 657.8555584\ttest: 273.5618173\tbest: 269.7305238 (23)\ttotal: 11.7s\tremaining: 1m 1s\n",
      "32:\tlearn: 657.1564267\ttest: 272.1418105\tbest: 269.7305238 (23)\ttotal: 12.3s\tremaining: 1m 2s\n",
      "33:\tlearn: 653.7784529\ttest: 268.5471719\tbest: 268.5471719 (33)\ttotal: 12.7s\tremaining: 1m 2s\n",
      "34:\tlearn: 652.7470754\ttest: 268.1327032\tbest: 268.1327032 (34)\ttotal: 13.1s\tremaining: 1m 1s\n",
      "35:\tlearn: 652.4582715\ttest: 268.2468589\tbest: 268.1327032 (34)\ttotal: 13.4s\tremaining: 1m 1s\n",
      "36:\tlearn: 652.2222145\ttest: 267.4440268\tbest: 267.4440268 (36)\ttotal: 13.8s\tremaining: 1m\n",
      "37:\tlearn: 651.1346623\ttest: 267.5811602\tbest: 267.4440268 (36)\ttotal: 14.2s\tremaining: 1m\n",
      "38:\tlearn: 650.4575021\ttest: 267.5709281\tbest: 267.4440268 (36)\ttotal: 14.6s\tremaining: 1m\n",
      "39:\tlearn: 647.8687673\ttest: 268.3847865\tbest: 267.4440268 (36)\ttotal: 15s\tremaining: 1m\n",
      "40:\tlearn: 645.7155811\ttest: 269.3763376\tbest: 267.4440268 (36)\ttotal: 15.4s\tremaining: 59.8s\n",
      "41:\tlearn: 642.1168776\ttest: 271.0487436\tbest: 267.4440268 (36)\ttotal: 15.9s\tremaining: 59.7s\n",
      "42:\tlearn: 639.9150216\ttest: 272.6333207\tbest: 267.4440268 (36)\ttotal: 16.5s\tremaining: 1m\n",
      "43:\tlearn: 638.1117362\ttest: 270.4745556\tbest: 267.4440268 (36)\ttotal: 17.1s\tremaining: 1m\n",
      "44:\tlearn: 636.0265100\ttest: 269.6742534\tbest: 267.4440268 (36)\ttotal: 17.9s\tremaining: 1m 1s\n",
      "45:\tlearn: 636.0228747\ttest: 269.6826097\tbest: 267.4440268 (36)\ttotal: 18.6s\tremaining: 1m 2s\n",
      "46:\tlearn: 633.5754882\ttest: 269.3718661\tbest: 267.4440268 (36)\ttotal: 19.3s\tremaining: 1m 2s\n",
      "47:\tlearn: 633.3970783\ttest: 269.3296325\tbest: 267.4440268 (36)\ttotal: 19.8s\tremaining: 1m 2s\n",
      "48:\tlearn: 632.7595727\ttest: 268.5302092\tbest: 267.4440268 (36)\ttotal: 20.2s\tremaining: 1m 2s\n",
      "49:\tlearn: 632.6775191\ttest: 268.4536694\tbest: 267.4440268 (36)\ttotal: 20.5s\tremaining: 1m 1s\n",
      "50:\tlearn: 629.6724100\ttest: 268.0999280\tbest: 267.4440268 (36)\ttotal: 21s\tremaining: 1m 1s\n",
      "51:\tlearn: 628.9796705\ttest: 268.2334871\tbest: 267.4440268 (36)\ttotal: 21.3s\tremaining: 1m\n",
      "52:\tlearn: 627.7585155\ttest: 313.7422530\tbest: 267.4440268 (36)\ttotal: 21.8s\tremaining: 1m\n",
      "53:\tlearn: 627.1325274\ttest: 313.8893265\tbest: 267.4440268 (36)\ttotal: 22.3s\tremaining: 1m\n",
      "54:\tlearn: 627.0691786\ttest: 313.9269428\tbest: 267.4440268 (36)\ttotal: 22.7s\tremaining: 59.8s\n",
      "55:\tlearn: 626.2973506\ttest: 314.0277620\tbest: 267.4440268 (36)\ttotal: 23s\tremaining: 59.3s\n",
      "56:\tlearn: 624.4536017\ttest: 314.4048871\tbest: 267.4440268 (36)\ttotal: 23.4s\tremaining: 58.7s\n",
      "57:\tlearn: 623.8059405\ttest: 314.5447073\tbest: 267.4440268 (36)\ttotal: 23.8s\tremaining: 58.4s\n",
      "58:\tlearn: 621.7403129\ttest: 314.2883533\tbest: 267.4440268 (36)\ttotal: 24.2s\tremaining: 57.9s\n",
      "59:\tlearn: 621.4821210\ttest: 314.2563953\tbest: 267.4440268 (36)\ttotal: 24.6s\tremaining: 57.5s\n",
      "60:\tlearn: 621.2546457\ttest: 314.0865667\tbest: 267.4440268 (36)\ttotal: 25s\tremaining: 57s\n",
      "61:\tlearn: 619.1100376\ttest: 313.0221225\tbest: 267.4440268 (36)\ttotal: 25.4s\tremaining: 56.5s\n",
      "62:\tlearn: 618.8586012\ttest: 313.0026114\tbest: 267.4440268 (36)\ttotal: 25.8s\tremaining: 56s\n",
      "63:\tlearn: 617.8304740\ttest: 312.4639134\tbest: 267.4440268 (36)\ttotal: 26.2s\tremaining: 55.7s\n",
      "64:\tlearn: 617.2913939\ttest: 312.1996039\tbest: 267.4440268 (36)\ttotal: 26.6s\tremaining: 55.3s\n",
      "65:\tlearn: 616.1676351\ttest: 311.7958721\tbest: 267.4440268 (36)\ttotal: 27s\tremaining: 54.9s\n",
      "66:\tlearn: 615.7844773\ttest: 311.8652434\tbest: 267.4440268 (36)\ttotal: 27.4s\tremaining: 54.3s\n",
      "67:\tlearn: 615.0295979\ttest: 312.1374842\tbest: 267.4440268 (36)\ttotal: 27.7s\tremaining: 53.8s\n",
      "68:\tlearn: 614.7224403\ttest: 312.2707009\tbest: 267.4440268 (36)\ttotal: 28.1s\tremaining: 53.3s\n",
      "69:\tlearn: 613.8034438\ttest: 312.2298162\tbest: 267.4440268 (36)\ttotal: 28.5s\tremaining: 52.9s\n",
      "70:\tlearn: 613.7366478\ttest: 312.2508441\tbest: 267.4440268 (36)\ttotal: 28.9s\tremaining: 52.5s\n",
      "71:\tlearn: 613.4552597\ttest: 312.1853427\tbest: 267.4440268 (36)\ttotal: 29.2s\tremaining: 51.9s\n",
      "72:\tlearn: 612.7556464\ttest: 312.4579435\tbest: 267.4440268 (36)\ttotal: 29.6s\tremaining: 51.6s\n",
      "73:\tlearn: 611.6395216\ttest: 312.1779390\tbest: 267.4440268 (36)\ttotal: 29.9s\tremaining: 51s\n",
      "74:\tlearn: 608.9884346\ttest: 318.5226949\tbest: 267.4440268 (36)\ttotal: 30.4s\tremaining: 50.7s\n",
      "75:\tlearn: 607.3951412\ttest: 318.3238306\tbest: 267.4440268 (36)\ttotal: 30.8s\tremaining: 50.2s\n",
      "76:\tlearn: 606.6668651\ttest: 316.7708212\tbest: 267.4440268 (36)\ttotal: 31.2s\tremaining: 49.9s\n",
      "77:\tlearn: 606.1917514\ttest: 316.6798864\tbest: 267.4440268 (36)\ttotal: 31.7s\tremaining: 49.6s\n",
      "78:\tlearn: 605.5028041\ttest: 315.3583499\tbest: 267.4440268 (36)\ttotal: 32.1s\tremaining: 49.1s\n",
      "79:\tlearn: 605.0029687\ttest: 315.4594122\tbest: 267.4440268 (36)\ttotal: 32.4s\tremaining: 48.7s\n",
      "80:\tlearn: 603.5297180\ttest: 315.4011928\tbest: 267.4440268 (36)\ttotal: 32.8s\tremaining: 48.1s\n",
      "81:\tlearn: 601.4102340\ttest: 318.0534734\tbest: 267.4440268 (36)\ttotal: 33.1s\tremaining: 47.7s\n",
      "82:\tlearn: 601.4043700\ttest: 318.0829794\tbest: 267.4440268 (36)\ttotal: 33.5s\tremaining: 47.2s\n",
      "83:\tlearn: 601.3086730\ttest: 318.1154645\tbest: 267.4440268 (36)\ttotal: 33.9s\tremaining: 46.8s\n",
      "84:\tlearn: 600.8264184\ttest: 317.9369723\tbest: 267.4440268 (36)\ttotal: 34.2s\tremaining: 46.3s\n",
      "85:\tlearn: 600.3628852\ttest: 318.0098601\tbest: 267.4440268 (36)\ttotal: 34.6s\tremaining: 45.8s\n",
      "86:\tlearn: 600.2062718\ttest: 317.8154831\tbest: 267.4440268 (36)\ttotal: 34.9s\tremaining: 45.4s\n",
      "87:\tlearn: 598.5732461\ttest: 317.4882487\tbest: 267.4440268 (36)\ttotal: 35.3s\tremaining: 44.9s\n"
     ]
    },
    {
     "name": "stdout",
     "output_type": "stream",
     "text": [
      "88:\tlearn: 597.1482446\ttest: 322.2274714\tbest: 267.4440268 (36)\ttotal: 35.8s\tremaining: 44.7s\n",
      "89:\tlearn: 596.7588595\ttest: 322.0349364\tbest: 267.4440268 (36)\ttotal: 36.2s\tremaining: 44.3s\n",
      "90:\tlearn: 595.6217075\ttest: 321.0771234\tbest: 267.4440268 (36)\ttotal: 36.6s\tremaining: 43.8s\n",
      "91:\tlearn: 594.4883183\ttest: 321.7262508\tbest: 267.4440268 (36)\ttotal: 36.9s\tremaining: 43.3s\n",
      "92:\tlearn: 594.3064156\ttest: 321.5227188\tbest: 267.4440268 (36)\ttotal: 37.3s\tremaining: 42.9s\n",
      "93:\tlearn: 594.2296221\ttest: 321.2805972\tbest: 267.4440268 (36)\ttotal: 37.6s\tremaining: 42.4s\n",
      "94:\tlearn: 593.8214597\ttest: 321.3227474\tbest: 267.4440268 (36)\ttotal: 38s\tremaining: 42.1s\n",
      "95:\tlearn: 593.1610077\ttest: 325.1804867\tbest: 267.4440268 (36)\ttotal: 38.5s\tremaining: 41.7s\n",
      "96:\tlearn: 592.9938379\ttest: 325.3096229\tbest: 267.4440268 (36)\ttotal: 38.9s\tremaining: 41.3s\n",
      "97:\tlearn: 592.9557450\ttest: 325.3193895\tbest: 267.4440268 (36)\ttotal: 39.2s\tremaining: 40.8s\n",
      "98:\tlearn: 592.5859557\ttest: 324.4552813\tbest: 267.4440268 (36)\ttotal: 39.6s\tremaining: 40.4s\n",
      "99:\tlearn: 592.5610103\ttest: 324.2639610\tbest: 267.4440268 (36)\ttotal: 39.9s\tremaining: 39.9s\n",
      "100:\tlearn: 592.5467901\ttest: 324.2187524\tbest: 267.4440268 (36)\ttotal: 40.2s\tremaining: 39.4s\n",
      "101:\tlearn: 592.3895643\ttest: 324.2957329\tbest: 267.4440268 (36)\ttotal: 40.6s\tremaining: 39s\n",
      "102:\tlearn: 591.4630562\ttest: 324.0796783\tbest: 267.4440268 (36)\ttotal: 41s\tremaining: 38.6s\n",
      "103:\tlearn: 591.4557434\ttest: 324.1370078\tbest: 267.4440268 (36)\ttotal: 41.3s\tremaining: 38.2s\n",
      "104:\tlearn: 590.2029142\ttest: 325.4216450\tbest: 267.4440268 (36)\ttotal: 41.8s\tremaining: 37.8s\n",
      "105:\tlearn: 589.7675164\ttest: 325.5884502\tbest: 267.4440268 (36)\ttotal: 42.2s\tremaining: 37.4s\n",
      "106:\tlearn: 589.7619863\ttest: 325.5339330\tbest: 267.4440268 (36)\ttotal: 42.6s\tremaining: 37s\n",
      "107:\tlearn: 588.9478662\ttest: 324.8813465\tbest: 267.4440268 (36)\ttotal: 42.9s\tremaining: 36.6s\n",
      "108:\tlearn: 588.5220765\ttest: 324.8440657\tbest: 267.4440268 (36)\ttotal: 43.3s\tremaining: 36.2s\n",
      "109:\tlearn: 588.4280821\ttest: 324.7758236\tbest: 267.4440268 (36)\ttotal: 43.7s\tremaining: 35.7s\n",
      "110:\tlearn: 588.1339100\ttest: 325.1351228\tbest: 267.4440268 (36)\ttotal: 44s\tremaining: 35.3s\n",
      "111:\tlearn: 586.3192415\ttest: 325.2181762\tbest: 267.4440268 (36)\ttotal: 44.4s\tremaining: 34.8s\n",
      "112:\tlearn: 586.0662120\ttest: 325.0717405\tbest: 267.4440268 (36)\ttotal: 44.8s\tremaining: 34.5s\n",
      "113:\tlearn: 585.4596416\ttest: 324.8332063\tbest: 267.4440268 (36)\ttotal: 45.2s\tremaining: 34.1s\n",
      "114:\tlearn: 584.9753594\ttest: 325.1924222\tbest: 267.4440268 (36)\ttotal: 45.5s\tremaining: 33.6s\n",
      "115:\tlearn: 584.7732656\ttest: 324.6842231\tbest: 267.4440268 (36)\ttotal: 45.9s\tremaining: 33.2s\n",
      "116:\tlearn: 584.4940366\ttest: 324.5024957\tbest: 267.4440268 (36)\ttotal: 46.2s\tremaining: 32.8s\n",
      "117:\tlearn: 584.3290320\ttest: 324.4413847\tbest: 267.4440268 (36)\ttotal: 46.5s\tremaining: 32.3s\n",
      "118:\tlearn: 584.2772605\ttest: 324.8818792\tbest: 267.4440268 (36)\ttotal: 46.9s\tremaining: 31.9s\n",
      "119:\tlearn: 584.2675995\ttest: 324.9018763\tbest: 267.4440268 (36)\ttotal: 47.2s\tremaining: 31.5s\n",
      "120:\tlearn: 584.2119685\ttest: 324.9025364\tbest: 267.4440268 (36)\ttotal: 47.6s\tremaining: 31.1s\n",
      "121:\tlearn: 583.5025029\ttest: 325.1795085\tbest: 267.4440268 (36)\ttotal: 47.9s\tremaining: 30.7s\n",
      "122:\tlearn: 582.8370857\ttest: 323.8684716\tbest: 267.4440268 (36)\ttotal: 48.3s\tremaining: 30.2s\n",
      "123:\tlearn: 582.7063796\ttest: 323.9593510\tbest: 267.4440268 (36)\ttotal: 48.7s\tremaining: 29.8s\n",
      "124:\tlearn: 582.7046651\ttest: 323.9588439\tbest: 267.4440268 (36)\ttotal: 49s\tremaining: 29.4s\n",
      "125:\tlearn: 582.2604033\ttest: 323.6115800\tbest: 267.4440268 (36)\ttotal: 49.4s\tremaining: 29s\n",
      "126:\tlearn: 582.2444399\ttest: 323.6592423\tbest: 267.4440268 (36)\ttotal: 49.7s\tremaining: 28.6s\n",
      "127:\tlearn: 582.1853322\ttest: 323.8148078\tbest: 267.4440268 (36)\ttotal: 50.1s\tremaining: 28.2s\n",
      "128:\tlearn: 582.1659090\ttest: 323.7478793\tbest: 267.4440268 (36)\ttotal: 50.5s\tremaining: 27.8s\n",
      "129:\tlearn: 581.4632113\ttest: 324.1468194\tbest: 267.4440268 (36)\ttotal: 50.8s\tremaining: 27.4s\n",
      "130:\tlearn: 580.7028749\ttest: 323.5892970\tbest: 267.4440268 (36)\ttotal: 51.1s\tremaining: 26.9s\n",
      "131:\tlearn: 580.6130028\ttest: 323.5880588\tbest: 267.4440268 (36)\ttotal: 51.6s\tremaining: 26.6s\n",
      "132:\tlearn: 579.8889392\ttest: 323.8513152\tbest: 267.4440268 (36)\ttotal: 52.1s\tremaining: 26.2s\n",
      "133:\tlearn: 579.8785831\ttest: 323.8446588\tbest: 267.4440268 (36)\ttotal: 52.4s\tremaining: 25.8s\n",
      "134:\tlearn: 579.5430315\ttest: 323.6904382\tbest: 267.4440268 (36)\ttotal: 52.8s\tremaining: 25.4s\n",
      "135:\tlearn: 579.5385334\ttest: 323.7094333\tbest: 267.4440268 (36)\ttotal: 53.1s\tremaining: 25s\n",
      "136:\tlearn: 578.2510544\ttest: 327.3884641\tbest: 267.4440268 (36)\ttotal: 53.6s\tremaining: 24.6s\n",
      "137:\tlearn: 578.1852652\ttest: 327.2868254\tbest: 267.4440268 (36)\ttotal: 53.9s\tremaining: 24.2s\n",
      "138:\tlearn: 578.0437218\ttest: 327.5254117\tbest: 267.4440268 (36)\ttotal: 54.3s\tremaining: 23.8s\n",
      "139:\tlearn: 578.0298342\ttest: 327.5608311\tbest: 267.4440268 (36)\ttotal: 54.6s\tremaining: 23.4s\n",
      "140:\tlearn: 578.0241959\ttest: 327.5159690\tbest: 267.4440268 (36)\ttotal: 55s\tremaining: 23s\n",
      "141:\tlearn: 577.6656041\ttest: 327.2800012\tbest: 267.4440268 (36)\ttotal: 55.3s\tremaining: 22.6s\n",
      "142:\tlearn: 577.1722677\ttest: 327.1780762\tbest: 267.4440268 (36)\ttotal: 55.7s\tremaining: 22.2s\n",
      "143:\tlearn: 576.7435955\ttest: 326.2447607\tbest: 267.4440268 (36)\ttotal: 56.3s\tremaining: 21.9s\n",
      "144:\tlearn: 576.5337181\ttest: 326.2000040\tbest: 267.4440268 (36)\ttotal: 56.7s\tremaining: 21.5s\n",
      "145:\tlearn: 576.0683257\ttest: 325.9387894\tbest: 267.4440268 (36)\ttotal: 57.1s\tremaining: 21.1s\n",
      "146:\tlearn: 575.7209501\ttest: 326.0759772\tbest: 267.4440268 (36)\ttotal: 57.4s\tremaining: 20.7s\n",
      "147:\tlearn: 575.4398642\ttest: 326.0260147\tbest: 267.4440268 (36)\ttotal: 57.8s\tremaining: 20.3s\n",
      "148:\tlearn: 575.3939914\ttest: 326.0221031\tbest: 267.4440268 (36)\ttotal: 58.3s\tremaining: 19.9s\n",
      "149:\tlearn: 574.7592267\ttest: 327.0559664\tbest: 267.4440268 (36)\ttotal: 58.6s\tremaining: 19.5s\n",
      "150:\tlearn: 574.7448386\ttest: 327.0241518\tbest: 267.4440268 (36)\ttotal: 59s\tremaining: 19.1s\n",
      "151:\tlearn: 574.2093118\ttest: 327.1979683\tbest: 267.4440268 (36)\ttotal: 59.3s\tremaining: 18.7s\n",
      "152:\tlearn: 573.8236397\ttest: 326.7410671\tbest: 267.4440268 (36)\ttotal: 59.6s\tremaining: 18.3s\n",
      "153:\tlearn: 573.3427121\ttest: 333.8546298\tbest: 267.4440268 (36)\ttotal: 60s\tremaining: 17.9s\n",
      "154:\tlearn: 572.6609785\ttest: 333.0068882\tbest: 267.4440268 (36)\ttotal: 1m\tremaining: 17.5s\n",
      "155:\tlearn: 572.6344641\ttest: 333.0392064\tbest: 267.4440268 (36)\ttotal: 1m\tremaining: 17.1s\n",
      "156:\tlearn: 572.6234146\ttest: 333.0380440\tbest: 267.4440268 (36)\ttotal: 1m 1s\tremaining: 16.7s\n",
      "157:\tlearn: 572.2947077\ttest: 333.1516799\tbest: 267.4440268 (36)\ttotal: 1m 1s\tremaining: 16.4s\n",
      "158:\tlearn: 572.2875859\ttest: 333.1857353\tbest: 267.4440268 (36)\ttotal: 1m 1s\tremaining: 16s\n",
      "159:\tlearn: 571.5226543\ttest: 333.2448629\tbest: 267.4440268 (36)\ttotal: 1m 2s\tremaining: 15.6s\n",
      "160:\tlearn: 571.5218798\ttest: 333.2443756\tbest: 267.4440268 (36)\ttotal: 1m 2s\tremaining: 15.2s\n",
      "161:\tlearn: 571.4558401\ttest: 333.2798065\tbest: 267.4440268 (36)\ttotal: 1m 3s\tremaining: 14.8s\n",
      "162:\tlearn: 571.2229690\ttest: 333.2258303\tbest: 267.4440268 (36)\ttotal: 1m 3s\tremaining: 14.4s\n",
      "163:\tlearn: 571.2211436\ttest: 333.2528525\tbest: 267.4440268 (36)\ttotal: 1m 3s\tremaining: 14s\n",
      "164:\tlearn: 571.0835263\ttest: 333.1741845\tbest: 267.4440268 (36)\ttotal: 1m 4s\tremaining: 13.6s\n",
      "165:\tlearn: 570.4763855\ttest: 332.3993474\tbest: 267.4440268 (36)\ttotal: 1m 4s\tremaining: 13.2s\n",
      "166:\tlearn: 569.9909784\ttest: 331.7707233\tbest: 267.4440268 (36)\ttotal: 1m 4s\tremaining: 12.8s\n",
      "167:\tlearn: 569.5581852\ttest: 332.3285252\tbest: 267.4440268 (36)\ttotal: 1m 5s\tremaining: 12.4s\n",
      "168:\tlearn: 569.0274873\ttest: 332.4647042\tbest: 267.4440268 (36)\ttotal: 1m 5s\tremaining: 12.1s\n",
      "169:\tlearn: 568.9742250\ttest: 332.4046170\tbest: 267.4440268 (36)\ttotal: 1m 6s\tremaining: 11.7s\n",
      "170:\tlearn: 568.6057081\ttest: 478.7472367\tbest: 267.4440268 (36)\ttotal: 1m 6s\tremaining: 11.3s\n",
      "171:\tlearn: 568.2078294\ttest: 478.8077687\tbest: 267.4440268 (36)\ttotal: 1m 7s\tremaining: 10.9s\n",
      "172:\tlearn: 567.5663794\ttest: 478.5491963\tbest: 267.4440268 (36)\ttotal: 1m 7s\tremaining: 10.5s\n",
      "173:\tlearn: 567.5012843\ttest: 478.6749356\tbest: 267.4440268 (36)\ttotal: 1m 7s\tremaining: 10.1s\n",
      "174:\tlearn: 566.6334475\ttest: 469.9986690\tbest: 267.4440268 (36)\ttotal: 1m 8s\tremaining: 9.74s\n"
     ]
    },
    {
     "name": "stdout",
     "output_type": "stream",
     "text": [
      "175:\tlearn: 566.6037293\ttest: 469.9660103\tbest: 267.4440268 (36)\ttotal: 1m 8s\tremaining: 9.35s\n",
      "176:\tlearn: 566.4771220\ttest: 470.0103837\tbest: 267.4440268 (36)\ttotal: 1m 8s\tremaining: 8.96s\n",
      "177:\tlearn: 566.3042726\ttest: 470.2024099\tbest: 267.4440268 (36)\ttotal: 1m 9s\tremaining: 8.57s\n",
      "178:\tlearn: 565.9618398\ttest: 470.5524393\tbest: 267.4440268 (36)\ttotal: 1m 9s\tremaining: 8.18s\n",
      "179:\tlearn: 564.9246981\ttest: 469.8559787\tbest: 267.4440268 (36)\ttotal: 1m 10s\tremaining: 7.8s\n",
      "180:\tlearn: 563.6582811\ttest: 470.1661712\tbest: 267.4440268 (36)\ttotal: 1m 10s\tremaining: 7.41s\n",
      "181:\tlearn: 562.7647436\ttest: 469.7728851\tbest: 267.4440268 (36)\ttotal: 1m 10s\tremaining: 7.02s\n",
      "182:\tlearn: 562.2589159\ttest: 469.2769882\tbest: 267.4440268 (36)\ttotal: 1m 11s\tremaining: 6.62s\n",
      "183:\tlearn: 562.2535591\ttest: 469.1786585\tbest: 267.4440268 (36)\ttotal: 1m 11s\tremaining: 6.23s\n",
      "184:\tlearn: 562.2497079\ttest: 469.1498264\tbest: 267.4440268 (36)\ttotal: 1m 12s\tremaining: 5.84s\n",
      "185:\tlearn: 562.1859964\ttest: 469.0309633\tbest: 267.4440268 (36)\ttotal: 1m 12s\tremaining: 5.45s\n",
      "186:\tlearn: 561.8636417\ttest: 469.1428992\tbest: 267.4440268 (36)\ttotal: 1m 12s\tremaining: 5.05s\n",
      "187:\tlearn: 561.8415017\ttest: 469.2286494\tbest: 267.4440268 (36)\ttotal: 1m 13s\tremaining: 4.67s\n",
      "188:\tlearn: 561.4893366\ttest: 469.2783949\tbest: 267.4440268 (36)\ttotal: 1m 13s\tremaining: 4.28s\n",
      "189:\tlearn: 560.5561121\ttest: 469.9686613\tbest: 267.4440268 (36)\ttotal: 1m 13s\tremaining: 3.89s\n",
      "190:\tlearn: 560.3008656\ttest: 470.0150392\tbest: 267.4440268 (36)\ttotal: 1m 14s\tremaining: 3.51s\n",
      "191:\tlearn: 559.3330296\ttest: 469.0820542\tbest: 267.4440268 (36)\ttotal: 1m 14s\tremaining: 3.12s\n",
      "192:\tlearn: 559.0874698\ttest: 468.9889180\tbest: 267.4440268 (36)\ttotal: 1m 15s\tremaining: 2.73s\n",
      "193:\tlearn: 558.5454756\ttest: 469.3358854\tbest: 267.4440268 (36)\ttotal: 1m 15s\tremaining: 2.34s\n",
      "194:\tlearn: 558.2813809\ttest: 468.4961109\tbest: 267.4440268 (36)\ttotal: 1m 15s\tremaining: 1.95s\n",
      "195:\tlearn: 557.6429238\ttest: 468.2887549\tbest: 267.4440268 (36)\ttotal: 1m 16s\tremaining: 1.56s\n",
      "196:\tlearn: 557.4578471\ttest: 468.2906159\tbest: 267.4440268 (36)\ttotal: 1m 16s\tremaining: 1.17s\n",
      "197:\tlearn: 556.7419995\ttest: 468.4085370\tbest: 267.4440268 (36)\ttotal: 1m 16s\tremaining: 777ms\n",
      "198:\tlearn: 555.7419557\ttest: 468.2367226\tbest: 267.4440268 (36)\ttotal: 1m 17s\tremaining: 388ms\n",
      "199:\tlearn: 555.0481342\ttest: 468.0930755\tbest: 267.4440268 (36)\ttotal: 1m 17s\tremaining: 0us\n",
      "\n",
      "bestTest = 267.4440268\n",
      "bestIteration = 36\n",
      "\n",
      "Shrink model to first 37 iterations.\n"
     ]
    },
    {
     "data": {
      "text/plain": [
       "<catboost.core.CatBoostRegressor at 0x13c843220>"
      ]
     },
     "execution_count": 37,
     "metadata": {},
     "output_type": "execute_result"
    }
   ],
   "source": [
    "def column_index(df, query_cols):\n",
    "    cols = df.columns.values\n",
    "    sidx = np.argsort(cols)\n",
    "    return sidx[np.searchsorted(cols,query_cols,sorter=sidx)]\n",
    "\n",
    "# cb_model = CatBoostRegressor(iterations=700,\n",
    "#                              learning_rate=0.02,\n",
    "#                              depth=12,\n",
    "#                              eval_metric='RMSE',\n",
    "#                              random_seed = 23,\n",
    "#                              bagging_temperature = 0.2,\n",
    "#                              od_type='Iter',\n",
    "#                              metric_period = 75,\n",
    "#                              od_wait=100)\n",
    "\n",
    "cb_model = CatBoostRegressor(iterations = 200, eval_metric = 'RMSE')\n",
    "\n",
    "cb_model.fit(X_train, y_train,\n",
    "             eval_set=(X_valid,y_valid),\n",
    "             cat_features=column_index(X_train,categorical_features_names),\n",
    "             use_best_model=True,\n",
    "             verbose=True)"
   ]
  },
  {
   "cell_type": "code",
   "execution_count": 38,
   "metadata": {},
   "outputs": [],
   "source": [
    "y_pred = cb_model.predict(X_test)"
   ]
  },
  {
   "cell_type": "code",
   "execution_count": 40,
   "metadata": {},
   "outputs": [
    {
     "data": {
      "text/plain": [
       "275.1509529403856"
      ]
     },
     "execution_count": 40,
     "metadata": {},
     "output_type": "execute_result"
    }
   ],
   "source": [
    "np.sqrt(mean_squared_error(y_pred, y_test))"
   ]
  },
  {
   "cell_type": "code",
   "execution_count": 41,
   "metadata": {},
   "outputs": [
    {
     "data": {
      "text/plain": [
       "2229.040538291336"
      ]
     },
     "execution_count": 41,
     "metadata": {},
     "output_type": "execute_result"
    }
   ],
   "source": [
    "np.sqrt(mean_squared_error(y_current_prediction, y_test))"
   ]
  },
  {
   "cell_type": "code",
   "execution_count": null,
   "metadata": {},
   "outputs": [],
   "source": []
  },
  {
   "cell_type": "code",
   "execution_count": null,
   "metadata": {},
   "outputs": [],
   "source": []
  }
 ],
 "metadata": {
  "kernelspec": {
   "display_name": "Python 3",
   "language": "python",
   "name": "python3"
  },
  "language_info": {
   "codemirror_mode": {
    "name": "ipython",
    "version": 3
   },
   "file_extension": ".py",
   "mimetype": "text/x-python",
   "name": "python",
   "nbconvert_exporter": "python",
   "pygments_lexer": "ipython3",
   "version": "3.8.5"
  }
 },
 "nbformat": 4,
 "nbformat_minor": 4
}
